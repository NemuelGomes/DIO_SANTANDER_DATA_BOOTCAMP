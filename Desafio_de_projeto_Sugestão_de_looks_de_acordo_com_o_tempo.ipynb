{
  "nbformat": 4,
  "nbformat_minor": 0,
  "metadata": {
    "colab": {
      "provenance": [],
      "authorship_tag": "ABX9TyP6lNC/vssRvyp/enEVaiC5",
      "include_colab_link": true
    },
    "kernelspec": {
      "name": "python3",
      "display_name": "Python 3"
    },
    "language_info": {
      "name": "python"
    }
  },
  "cells": [
    {
      "cell_type": "markdown",
      "metadata": {
        "id": "view-in-github",
        "colab_type": "text"
      },
      "source": [
        "<a href=\"https://colab.research.google.com/github/NemuelGomes/DIO_SANTANDER_DATA_BOOTCAMP/blob/main/Desafio_de_projeto_Sugest%C3%A3o_de_looks_de_acordo_com_o_tempo.ipynb\" target=\"_parent\"><img src=\"https://colab.research.google.com/assets/colab-badge.svg\" alt=\"Open In Colab\"/></a>"
      ]
    },
    {
      "cell_type": "markdown",
      "source": [
        "**ETL criada para acessar dados da API do INPE e consumir as condições climáticas das capitais, em seguida retorna uma sugestão de roupas e acessórios para as condições climáticas do dia e local em uma planilha google**"
      ],
      "metadata": {
        "id": "AtTEnvkp52Lo"
      }
    },
    {
      "cell_type": "markdown",
      "source": [
        "# Requisição API INPE"
      ],
      "metadata": {
        "id": "5Q_gREgK50bj"
      }
    },
    {
      "cell_type": "code",
      "source": [
        "import requests\n",
        "\n",
        "tempo_nas_capitais_api = requests.get('http://servicos.cptec.inpe.br/XML/capitais/condicoesAtuais.xml')"
      ],
      "metadata": {
        "id": "TWLZqvwQ4-b_"
      },
      "execution_count": 1,
      "outputs": []
    },
    {
      "cell_type": "code",
      "source": [
        "result = tempo_nas_capitais_api.text\n"
      ],
      "metadata": {
        "id": "5SevodnK_Jc0"
      },
      "execution_count": 2,
      "outputs": []
    },
    {
      "cell_type": "markdown",
      "source": [
        "# Transforma dados em um dicionário utilizando a biblioteca **xmltodict**"
      ],
      "metadata": {
        "id": "njDkQHDI70bV"
      }
    },
    {
      "cell_type": "code",
      "source": [
        "pip install xmltodict\n"
      ],
      "metadata": {
        "colab": {
          "base_uri": "https://localhost:8080/"
        },
        "id": "aJQIWevc8sHW",
        "outputId": "06912928-cf58-4f6e-a70c-dd94d7d52779"
      },
      "execution_count": 3,
      "outputs": [
        {
          "output_type": "stream",
          "name": "stdout",
          "text": [
            "Collecting xmltodict\n",
            "  Downloading xmltodict-0.13.0-py2.py3-none-any.whl (10.0 kB)\n",
            "Installing collected packages: xmltodict\n",
            "Successfully installed xmltodict-0.13.0\n"
          ]
        }
      ]
    },
    {
      "cell_type": "code",
      "source": [
        "import xmltodict\n",
        "\n",
        "dicionario_tempo = xmltodict.parse(result)\n"
      ],
      "metadata": {
        "id": "V5Y4SBM_9sh9"
      },
      "execution_count": 4,
      "outputs": []
    },
    {
      "cell_type": "markdown",
      "source": [
        "# Transforma em lista com capitais e dados do tempo"
      ],
      "metadata": {
        "id": "bZjdpNcfWrdK"
      }
    },
    {
      "cell_type": "code",
      "source": [
        "list_dados_capitais = []\n",
        "\n",
        "for capital in dicionario_tempo['capitais']['metar']:\n",
        "  list_dados_capitais.append(capital)\n",
        "\n",
        "print(list_dados_capitais)"
      ],
      "metadata": {
        "colab": {
          "base_uri": "https://localhost:8080/"
        },
        "id": "UXfObyGIIlj_",
        "outputId": "b785c6d1-89ff-4d3d-8d09-a6740e3cfca8"
      },
      "execution_count": 5,
      "outputs": [
        {
          "output_type": "stream",
          "name": "stdout",
          "text": [
            "[{'codigo': 'SBAR', 'atualizacao': '14/09/2023 20:00:00', 'pressao': '1016', 'temperatura': '25', 'tempo': 'ps', 'tempo_desc': 'PredomÃ\\xadnio de Sol', 'umidade': '83', 'vento_dir': '100', 'vento_int': '7', 'intensidade': '>10000'}, {'codigo': 'SBBE', 'atualizacao': '14/09/2023 20:00:00', 'pressao': '1012', 'temperatura': '27', 'tempo': 'ps', 'tempo_desc': 'PredomÃ\\xadnio de Sol', 'umidade': '84', 'vento_dir': '30', 'vento_int': '7', 'intensidade': '>10000'}, {'codigo': 'SBCF', 'atualizacao': '14/09/2023 20:00:00', 'pressao': '1018', 'temperatura': '25', 'tempo': 'ps', 'tempo_desc': 'PredomÃ\\xadnio de Sol', 'umidade': '50', 'vento_dir': '210', 'vento_int': '36', 'intensidade': '>10000'}, {'codigo': 'SBBV', 'atualizacao': '14/09/2023 20:00:00', 'pressao': '1010', 'temperatura': '33', 'tempo': 'ps', 'tempo_desc': 'PredomÃ\\xadnio de Sol', 'umidade': '41', 'vento_dir': '90', 'vento_int': '4', 'intensidade': '>10000'}, {'codigo': 'SBBR', 'atualizacao': '14/09/2023 20:00:00', 'pressao': '1020', 'temperatura': '25', 'tempo': 'ps', 'tempo_desc': 'PredomÃ\\xadnio de Sol', 'umidade': '50', 'vento_dir': '200', 'vento_int': '7', 'intensidade': '>10000'}, {'codigo': 'SBCG', 'atualizacao': '14/09/2023 20:00:00', 'pressao': '1019', 'temperatura': '18', 'tempo': 'ps', 'tempo_desc': 'PredomÃ\\xadnio de Sol', 'umidade': '60', 'vento_dir': '140', 'vento_int': '14', 'intensidade': '>10000'}, {'codigo': 'SBCY', 'atualizacao': '14/09/2023 20:00:00', 'pressao': '1016', 'temperatura': '21', 'tempo': 'ps', 'tempo_desc': 'PredomÃ\\xadnio de Sol', 'umidade': '88', 'vento_dir': '9999', 'vento_int': '0', 'intensidade': '>10000'}, {'codigo': 'SBCT', 'atualizacao': '14/09/2023 20:00:00', 'pressao': '1020', 'temperatura': '11', 'tempo': 'ps', 'tempo_desc': 'PredomÃ\\xadnio de Sol', 'umidade': '71', 'vento_dir': '130', 'vento_int': '7', 'intensidade': '>10000'}, {'codigo': 'SBFL', 'atualizacao': '14/09/2023 20:00:00', 'pressao': '1019', 'temperatura': '17', 'tempo': 'ps', 'tempo_desc': 'PredomÃ\\xadnio de Sol', 'umidade': '63', 'vento_dir': '190', 'vento_int': '22', 'intensidade': '>10000'}, {'codigo': 'SBFZ', 'atualizacao': '14/09/2023 20:00:00', 'pressao': '1014', 'temperatura': '27', 'tempo': 'ps', 'tempo_desc': 'PredomÃ\\xadnio de Sol', 'umidade': '79', 'vento_dir': '110', 'vento_int': '18', 'intensidade': '>10000'}, {'codigo': 'SBGO', 'atualizacao': '14/09/2023 20:00:00', 'pressao': '1019', 'temperatura': '27', 'tempo': 'ps', 'tempo_desc': 'PredomÃ\\xadnio de Sol', 'umidade': '51', 'vento_dir': '200', 'vento_int': '14', 'intensidade': '>10000'}, {'codigo': 'SBJP', 'atualizacao': '14/09/2023 20:00:00', 'pressao': '1016', 'temperatura': '24', 'tempo': 'ps', 'tempo_desc': 'PredomÃ\\xadnio de Sol', 'umidade': '89', 'vento_dir': '130', 'vento_int': '11', 'intensidade': '>10000'}, {'codigo': 'SBMQ', 'atualizacao': '14/09/2023 20:00:00', 'pressao': '1011', 'temperatura': '30', 'tempo': 'ps', 'tempo_desc': 'PredomÃ\\xadnio de Sol', 'umidade': '66', 'vento_dir': '70', 'vento_int': '11', 'intensidade': '>10000'}, {'codigo': 'SBMO', 'atualizacao': '14/09/2023 20:00:00', 'pressao': '1017', 'temperatura': '24', 'tempo': 'ps', 'tempo_desc': 'PredomÃ\\xadnio de Sol', 'umidade': '94', 'vento_dir': '9999', 'vento_int': '0', 'intensidade': '>10000'}, {'codigo': 'SBMN', 'atualizacao': '14/09/2023 20:00:00', 'pressao': '1010', 'temperatura': '32', 'tempo': 'ps', 'tempo_desc': 'PredomÃ\\xadnio de Sol', 'umidade': '49', 'vento_dir': '80', 'vento_int': '7', 'intensidade': '>10000'}, {'codigo': 'SBNT', 'atualizacao': '14/09/2023 20:00:00', 'pressao': '1015', 'temperatura': '24', 'tempo': 'ps', 'tempo_desc': 'PredomÃ\\xadnio de Sol', 'umidade': '94', 'vento_dir': '140', 'vento_int': '11', 'intensidade': '>10000'}, {'codigo': 'SBPA', 'atualizacao': '14/09/2023 20:00:00', 'pressao': '1022', 'temperatura': '13', 'tempo': 'ps', 'tempo_desc': 'PredomÃ\\xadnio de Sol', 'umidade': '94', 'vento_dir': '190', 'vento_int': '4', 'intensidade': '>10000'}, {'codigo': 'SBPV', 'atualizacao': '14/09/2023 20:00:00', 'pressao': '1010', 'temperatura': '29', 'tempo': 'ps', 'tempo_desc': 'PredomÃ\\xadnio de Sol', 'umidade': '58', 'vento_dir': '90', 'vento_int': '7', 'intensidade': '>10000'}, {'codigo': 'SBRF', 'atualizacao': '14/09/2023 20:00:00', 'pressao': '1016', 'temperatura': '26', 'tempo': 'ps', 'tempo_desc': 'PredomÃ\\xadnio de Sol', 'umidade': '79', 'vento_dir': '150', 'vento_int': '14', 'intensidade': '>10000'}, {'codigo': 'SBRB', 'atualizacao': '14/09/2023 20:00:00', 'pressao': '1012', 'temperatura': '26', 'tempo': 'ps', 'tempo_desc': 'PredomÃ\\xadnio de Sol', 'umidade': '79', 'vento_dir': '160', 'vento_int': '7', 'intensidade': '>10000'}, {'codigo': 'SBRJ', 'atualizacao': '14/09/2023 20:00:00', 'pressao': '1017', 'temperatura': '21', 'tempo': 'ps', 'tempo_desc': 'PredomÃ\\xadnio de Sol', 'umidade': '88', 'vento_dir': '190', 'vento_int': '29', 'intensidade': '>10000'}, {'codigo': 'SBSV', 'atualizacao': '14/09/2023 20:00:00', 'pressao': '1015', 'temperatura': '26', 'tempo': 'ps', 'tempo_desc': 'PredomÃ\\xadnio de Sol', 'umidade': '79', 'vento_dir': '70', 'vento_int': '18', 'intensidade': '>10000'}, {'codigo': 'SBSL', 'atualizacao': '14/09/2023 20:00:00', 'pressao': '1013', 'temperatura': '27', 'tempo': 'ps', 'tempo_desc': 'PredomÃ\\xadnio de Sol', 'umidade': '84', 'vento_dir': '30', 'vento_int': '14', 'intensidade': '>10000'}, {'codigo': 'SBSP', 'atualizacao': '14/09/2023 20:00:00', 'pressao': '1021', 'temperatura': '14', 'tempo': 'ps', 'tempo_desc': 'PredomÃ\\xadnio de Sol', 'umidade': '88', 'vento_dir': '140', 'vento_int': '11', 'intensidade': '>10000'}, {'codigo': 'SBTE', 'atualizacao': '14/09/2023 20:00:00', 'pressao': '1010', 'temperatura': '31', 'tempo': 'ps', 'tempo_desc': 'PredomÃ\\xadnio de Sol', 'umidade': '46', 'vento_dir': '360', 'vento_int': '4', 'intensidade': '>10000'}, {'codigo': 'SBVT', 'atualizacao': '14/09/2023 20:00:00', 'pressao': '1013', 'temperatura': '25', 'tempo': 'ps', 'tempo_desc': 'PredomÃ\\xadnio de Sol', 'umidade': '79', 'vento_dir': '40', 'vento_int': '14', 'intensidade': '>10000'}]\n"
          ]
        }
      ]
    },
    {
      "cell_type": "markdown",
      "source": [
        "Acessando o CHATGPT"
      ],
      "metadata": {
        "id": "iigeR_B_YY5N"
      }
    },
    {
      "cell_type": "code",
      "source": [
        "!pip install openai\n"
      ],
      "metadata": {
        "colab": {
          "base_uri": "https://localhost:8080/"
        },
        "id": "nexVUUYneHJ9",
        "outputId": "5fcc8aed-6ad5-483a-eb11-3bbe1ce7f5e0"
      },
      "execution_count": 6,
      "outputs": [
        {
          "output_type": "stream",
          "name": "stdout",
          "text": [
            "Collecting openai\n",
            "  Downloading openai-0.28.0-py3-none-any.whl (76 kB)\n",
            "\u001b[?25l     \u001b[90m━━━━━━━━━━━━━━━━━━━━━━━━━━━━━━━━━━━━━━━━\u001b[0m \u001b[32m0.0/76.5 kB\u001b[0m \u001b[31m?\u001b[0m eta \u001b[36m-:--:--\u001b[0m\r\u001b[2K     \u001b[91m━━━━━━━━━━━━━━━\u001b[0m\u001b[91m╸\u001b[0m\u001b[90m━━━━━━━━━━━━━━━━━━━━━━━\u001b[0m \u001b[32m30.7/76.5 kB\u001b[0m \u001b[31m904.9 kB/s\u001b[0m eta \u001b[36m0:00:01\u001b[0m\r\u001b[2K     \u001b[90m━━━━━━━━━━━━━━━━━━━━━━━━━━━━━━━━━━━━━━━━\u001b[0m \u001b[32m76.5/76.5 kB\u001b[0m \u001b[31m1.2 MB/s\u001b[0m eta \u001b[36m0:00:00\u001b[0m\n",
            "\u001b[?25hRequirement already satisfied: requests>=2.20 in /usr/local/lib/python3.10/dist-packages (from openai) (2.31.0)\n",
            "Requirement already satisfied: tqdm in /usr/local/lib/python3.10/dist-packages (from openai) (4.66.1)\n",
            "Requirement already satisfied: aiohttp in /usr/local/lib/python3.10/dist-packages (from openai) (3.8.5)\n",
            "Requirement already satisfied: charset-normalizer<4,>=2 in /usr/local/lib/python3.10/dist-packages (from requests>=2.20->openai) (3.2.0)\n",
            "Requirement already satisfied: idna<4,>=2.5 in /usr/local/lib/python3.10/dist-packages (from requests>=2.20->openai) (3.4)\n",
            "Requirement already satisfied: urllib3<3,>=1.21.1 in /usr/local/lib/python3.10/dist-packages (from requests>=2.20->openai) (2.0.4)\n",
            "Requirement already satisfied: certifi>=2017.4.17 in /usr/local/lib/python3.10/dist-packages (from requests>=2.20->openai) (2023.7.22)\n",
            "Requirement already satisfied: attrs>=17.3.0 in /usr/local/lib/python3.10/dist-packages (from aiohttp->openai) (23.1.0)\n",
            "Requirement already satisfied: multidict<7.0,>=4.5 in /usr/local/lib/python3.10/dist-packages (from aiohttp->openai) (6.0.4)\n",
            "Requirement already satisfied: async-timeout<5.0,>=4.0.0a3 in /usr/local/lib/python3.10/dist-packages (from aiohttp->openai) (4.0.3)\n",
            "Requirement already satisfied: yarl<2.0,>=1.0 in /usr/local/lib/python3.10/dist-packages (from aiohttp->openai) (1.9.2)\n",
            "Requirement already satisfied: frozenlist>=1.1.1 in /usr/local/lib/python3.10/dist-packages (from aiohttp->openai) (1.4.0)\n",
            "Requirement already satisfied: aiosignal>=1.1.2 in /usr/local/lib/python3.10/dist-packages (from aiohttp->openai) (1.3.1)\n",
            "Installing collected packages: openai\n",
            "Successfully installed openai-0.28.0\n"
          ]
        }
      ]
    },
    {
      "cell_type": "code",
      "source": [
        "# INSERIR API KEY\n",
        "openai_api_key = 'key'"
      ],
      "metadata": {
        "id": "eFJWQmJOZeVM"
      },
      "execution_count": 13,
      "outputs": []
    },
    {
      "cell_type": "code",
      "source": [
        "from openai.api_resources import completion\n",
        "import openai\n",
        "\n",
        "openai.api_key = openai_api_key\n",
        "\n",
        "def look_suggest(capital):\n",
        "\n",
        "  response = openai.ChatCompletion.create(\n",
        "    model=\"gpt-3.5-turbo\",\n",
        "    messages=[\n",
        "        {\"role\": \"system\", \"content\": \"Você é um especialista em previsão do tempo e deve fornecer dicas de vestimentas e acessórios de acordo como a previsão fornecida\"},\n",
        "        {\"role\": \"user\", \"content\": (f'Considere {capital}.Considere os códigos das cidades: SBTK-Tarauacá-AC;SBRB-Presidente Médici-AC;SBCZ-Internacional-AC;SBMO-Zumbi dos Palmares-AL;SBEG-Eduardo Gomes-AM;SBMN-Ponta Pelada-AM;SBMY-Manicoré-AM;SBTT-Tabatinga-AM;SBYA-Iuaretê-AM;SBUA-São Gabriel da Cachoeira-AM;SBTF-Tefé-AM;SBAM-Amapá-AP;SBMQ-Internacional-AP;SBOI-Oiapoque-AP;SBLP-Bom Jesus da Lapa-BA;SBCV-Caravelas-BA;SBIL-Jorge Amado-BA;SBLE-Chapada Diamantina-BA;SBUF-Paulo Afonso-BA;SBPS-Porto Seguro-BA;SBSV-Dep. Luís Eduardo Magalhães-BA;SBQV-Vitória da Conquista-BA;SBFZ-Pinto Martins-CE;SBJU-Cariri-CE;SBBR-Juscelino Kubitschek-DF;SBVT-Eurico Aguiar Salles-ES;SBAN-Anápolis-GO;SBGO-Santa Genoveva-GO;SBCI-Carolina-MA;SBIZ-Imperatriz-MA;SBSL-Mar. Cunha Machado-MA;SBAX-Araxá-MG;SBPR-Carlos Prates-MG;SBBQ-Barbacena-MG;SBBH-Pampulha-MG;SBCF-Tancredo Neves-MG;SBPC-Poços de Caldas-MG;SBUR-Uberaba-MG;SBUL-Uberlândia-MG;SBIP-Ipatinga-MG;SBJF-Francisco de Assis-MG;SBMK-Montes Claros-MG;SBVG-Varginha-MG;SBGV-Gov. Valadares-MG;SBCG-Internacional-MS;SBCR-Corumbá-MS;SBPP-Internacional-MS;SBAT-Alta Floresta-MT;SBBW-Barra do Garças-MT;SBCY-Marechal Rondon-MT;SBHT-Altamira-PA;SBBE-Val-de-Cans-PA;SBIH-Itaituba-PA;SBEK-Jacareacanga-PA;SBMA-Marabá-PA;SBCC-Cachimbó-PA;SBTB-Trombetas-PA;SBCJ-Carajás-PA;SBSN-Santarém-PA;SBTU-Tucuruí-PA;SBAA-Conceição do Araguaia-PA;SBKG-Pres. João Suassuna-PB;SBJP-Pres. Castro Pinto-PB;SBFN-Fernando de Noronha-PE;SBRF-Guararapes-PE;SBPL-Sen. Nilo Coelho-PE;SBPB-Dr. João Silva Filho-PI;SBTE-Sen. Petrônio Portella-PI;SBLO-Londrina-PR;SBFI-Cataratas-PR;SBBI-Bacacheri-PR;SBCT-Afonso Pena-PR;SBMG-Silvio Name Junior-PR;SBCB-Cabo Frio-RJ;SBGL-Galeão-RJ;SBJR-Jacarepaguá-RJ;SBRJ-Santos Dumont-RJ;SBSC-Santa Cruz-RJ;SBME-Macaé-RJ;SBES-S. Pedro da Aldeia-RJ;SBCP-Bartolomeu Lysandro-RJ;SBMS-Dix-Sept Rosado-RN;SBNT-Augusto Severo-RN;SBGM-Guajará Mirim-RO;SBVH-Brigadeiro Camarão-RO;SBPV-Gov. Jorge Teixeira de Oliveira-RO;SBBV-Boa Vista-RR;SBBG-Bagé-RS;SBSM-Santa Maria-RS;SBPA-Salgado Filho-RS;SBPK-Pelotas-RS;SBCO-Canoas-RS;SBUG-Rubem Berta-RS;SBCH-Chapecó-SC;SBCM-Forquilinha-SC;SBFL-Hercílio Luz-SC;SBJV-Lauro Carneiro de Loyola-SC;SBNF-Min. Victor Konder-SC;SBAR-Santa Maria-SE;SBAU-Araçatuba-SP;SBBU-Bauru-SP;SBKP-Viracopos-SP;SBDN-Pres. Prudente-SP;SBRP-Leite Lopes-SP;SBSR-S. J. do Rio Preto-SP;SBYS-Fontenelle-SP;SBST-Base Aérea-SP;SBGP-Gavião Peixoto-SP;SBGW-Guaratinguetá-SP;SBGR-Guarulhos-SP;SBSJ-São J. dos Campos-SP;SBMT-Campo de Marte-SP;SBSP-Congonhas-SP;SBTA-Taubaté-SP;SBPJ-Palmas-TO;SBPN-Porto Nacional-TO. A resposta deve conter no máximo 5 linhas')},\n",
        "\n",
        "        ]\n",
        "  )\n",
        "  return response['choices'][0].message.content\n",
        "\n",
        "for capital in list_dados_capitais:\n",
        "  look = look_suggest(capital)\n",
        "  print(look)\n"
      ],
      "metadata": {
        "colab": {
          "base_uri": "https://localhost:8080/",
          "height": 826
        },
        "id": "8QtMqIa7eTeL",
        "outputId": "bb32af6e-ef43-45ef-9a44-4b3ed5724bd6"
      },
      "execution_count": 26,
      "outputs": [
        {
          "output_type": "stream",
          "name": "stdout",
          "text": [
            "Com base na previsão do tempo predominância de sol e temperatura de 25°C, sugiro vestir roupas leves e confortáveis, como camisetas e shorts. Você também pode utilizar um chapéu ou boné para proteger-se do sol. Não se esqueça de usar protetor solar e óculos de sol.\n",
            "De acordo com a previsão para a cidade de SBBE (Val-de-Cans-PA), que indica \"Predomínio de Sol\" e temperatura de 27°C, sugiro vestir roupas leves, como camisetas, shorts e saias, além de calçados confortáveis. Também é importante utilizar óculos de sol, protetor solar e chapéu para se proteger dos raios solares.\n",
            "Para o aeroporto SBCF-Tancredo Neves em Minas Gerais, onde há previsão de Predomínio de Sol e temperatura de 25°C, você pode optar por vestir roupas leves, como camisetas, shorts e vestidos, além de usar óculos de sol e protetor solar. É recomendado também levar uma garrafa de água para se manter hidratado durante o dia.\n",
            "De acordo com a previsão do tempo em Boa Vista (SBBV) para o dia 14/09/2023, com temperatura de 33°C e predomínio de sol, recomenda-se vestir roupas leves e frescas, como camisetas de algodão e bermudas. Além disso, é importante usar óculos de sol, chapéu ou boné e protetor solar para se proteger dos raios UV.\n",
            "De acordo com a previsão do tempo fornecida para a cidade de SBBR (Juscelino Kubitschek-DF) com predominância de sol, recomenda-se vestir roupas leves e frescas, como camisetas, shorts ou saias. É aconselhável usar um chapéu ou boné para proteger-se do sol, assim como óculos de sol. Não se esqueça de aplicar protetor solar e manter-se hidratado ao longo do dia.\n",
            "De acordo com a previsão do tempo em SBCG (Campo Grande, MS), com predominância de sol, sugiro vestir roupas leves como camiseta, shorts ou saia, além de protetor solar. Um chapéu ou boné também pode ser útil para proteger do sol.\n",
            "Com base na previsão do tempo fornecida, o ambiente estará com predomínio de sol e a temperatura será de 21°C. Recomenda-se vestir roupas leves, como camiseta de manga curta ou regata, shorts ou saias e calçados confortáveis. É importante também utilizar protetor solar, óculos de sol e um chapéu para proteger-se dos raios solares.\n",
            "De acordo com a previsão do tempo para SBCT (Afonso Pena, PR), que indica predominância de sol com temperatura de 11°C, recomendo vestir peças leves por baixo, como camiseta de manga curta ou manga longa, e sobrepor com um suéter leve ou jaqueta corta-vento. Não esqueça de levar um guarda-chuva ou capa de chuva, pois a previsão não descarta a possibilidade de chuvas ocasionais.\n",
            "De acordo com a previsão do tempo para SBFL (Hercílio Luz-SC) com predomínio de Sol e temperatura de 17°C, é recomendado vestir roupas leves, como camiseta de manga curta, calças ou bermudas. Também é aconselhável usar óculos de sol, protetor solar e chapéu para proteger-se dos raios solares.\n",
            "De acordo com a previsão do tempo para Pinto Martins (SBFZ - CE), que indica um predomínio de sol, a temperatura de 27°C e umidade de 79%, é recomendado vestir roupas leves, como camisetas, shorts, saias ou vestidos frescos. Também é importante usar chapéu ou boné para proteger-se do sol e óculos de sol para proteger os olhos.\n",
            "De acordo com a previsão do tempo em Santa Genoveva - GO, onde a temperatura atual é 27°C e há predomínio de sol, recomenda-se usar roupas leves, como camisetas, shorts e vestidos, além de bonés ou chapéus para proteger-se do sol. Não esqueça também do protetor solar e óculos de sol para se proteger dos raios UV.\n",
            "De acordo com a previsão do tempo em SBJP (João Pessoa-PB) para amanhã, que indica \"Predomínio de Sol\" e temperatura de 24°C, recomendo vestir roupas leves, como camisetas, shorts e saias. Também é importante utilizar protetor solar, óculos de sol e boné para se proteger do sol.\n",
            "Com base na previsão do tempo em SBMQ (Macapá - AP), que indica predomínio de sol e temperatura de 30°C, recomendo vestir roupas leves e frescas, como camisetas de algodão e shorts ou saias. Não se esqueça de usar protetor solar, óculos de sol e chapéu para se proteger dos raios solares.\n",
            "De acordo com a previsão do tempo em SBMO (Zumbi dos Palmares-AL), que indica predomínio de sol, recomendo usar roupas leves, como camisetas, shorts e sandálias, além de chapéu e óculos de sol para se proteger do sol. A umidade está alta, então é importante se manter hidratado.\n",
            "Com base na previsão do tempo para SBMN (Ponta Pelada-AM), onde haverá predomínio de sol, recomenda-se vestir roupas leves e frescas, como camisetas de manga curta e bermudas. Além disso, é importante usar chapéu ou boné para proteger a cabeça dos raios solares e não se esquecer do protetor solar.\n",
            "De acordo com a previsão do tempo, o tempo será de predominância de sol, com temperatura de 24°C. Portanto, recomendo vestir roupas leves e confortáveis, como camisetas, shorts ou saias. Não se esqueça de usar protetor solar para se proteger dos raios solares. Um boné ou chapéu também podem ser úteis para proteger o rosto do sol.\n",
            "De acordo com a previsão do tempo para a cidade de SBPA (Salgado Filho-RS) com predomínio de sol e temperatura de 13°C, recomendo utilizar roupas leves e confortáveis, como camiseta de manga longa ou blusa de manga curta com uma jaqueta leve. Também é importante usar calças ou saias, meias e sapatos fechados, além de carregar um guarda-chuva caso haja uma mudança repentina no clima.\n",
            "Com base na previsão do tempo fornecida para SBPV (Gov. Jorge Teixeira de Oliveira-RO) com temperatura de 29°C e predomínio de Sol, recomendo vestir roupas leves, como camisetas e shorts, além de utilizar óculos de sol e protetor solar para se proteger dos raios UV. Não será necessário levar guarda-chuva ou casaco pesado.\n",
            "Para a cidade de SBRF (Guararapes-PE), onde há predomínio de sol e temperatura de 26°C, é recomendado vestir roupas leves e confortáveis, como camisetas, shorts ou saias, além de usar óculos de sol e protetor solar para se proteger dos raios solares.\n",
            "De acordo com a previsão do tempo, com predomínio de sol e temperatura de 26°C, é recomendado vestir roupas leves, como camisetas e bermudas, além de usar boné ou chapéu para proteger-se do sol. Não é necessário levar guarda-chuva ou casaco nesta previsão.\n",
            "Com base na previsão fornecida para Santos Dumont (SBRJ), que indica predominância de sol e temperatura de 21°C, sugiro vestir roupas leves, como camisetas e shorts, além de usar protetor solar para se proteger dos raios solares. Não será necessário usar casacos ou acessórios para tempo frio.\n",
            "De acordo com a previsão do tempo, onde o tempo está predominantemente ensolarado (Predomínio de Sol) e a temperatura é de 26°C, recomenda-se vestir roupas leves, como camisetas e shorts, além de usar protetor solar e óculos de sol para proteção contra os raios UV. É importante hidratar-se adequadamente também.\n"
          ]
        },
        {
          "output_type": "error",
          "ename": "APIError",
          "evalue": "ignored",
          "traceback": [
            "\u001b[0;31m---------------------------------------------------------------------------\u001b[0m",
            "\u001b[0;31mAPIError\u001b[0m                                  Traceback (most recent call last)",
            "\u001b[0;32m<ipython-input-26-7c232e8d5af3>\u001b[0m in \u001b[0;36m<cell line: 18>\u001b[0;34m()\u001b[0m\n\u001b[1;32m     17\u001b[0m \u001b[0;34m\u001b[0m\u001b[0m\n\u001b[1;32m     18\u001b[0m \u001b[0;32mfor\u001b[0m \u001b[0mcapital\u001b[0m \u001b[0;32min\u001b[0m \u001b[0mlist_dados_capitais\u001b[0m\u001b[0;34m:\u001b[0m\u001b[0;34m\u001b[0m\u001b[0;34m\u001b[0m\u001b[0m\n\u001b[0;32m---> 19\u001b[0;31m   \u001b[0mlook\u001b[0m \u001b[0;34m=\u001b[0m \u001b[0mlook_suggest\u001b[0m\u001b[0;34m(\u001b[0m\u001b[0mcapital\u001b[0m\u001b[0;34m)\u001b[0m\u001b[0;34m\u001b[0m\u001b[0;34m\u001b[0m\u001b[0m\n\u001b[0m\u001b[1;32m     20\u001b[0m   \u001b[0mprint\u001b[0m\u001b[0;34m(\u001b[0m\u001b[0mlook\u001b[0m\u001b[0;34m)\u001b[0m\u001b[0;34m\u001b[0m\u001b[0;34m\u001b[0m\u001b[0m\n",
            "\u001b[0;32m<ipython-input-26-7c232e8d5af3>\u001b[0m in \u001b[0;36mlook_suggest\u001b[0;34m(capital)\u001b[0m\n\u001b[1;32m      6\u001b[0m \u001b[0;32mdef\u001b[0m \u001b[0mlook_suggest\u001b[0m\u001b[0;34m(\u001b[0m\u001b[0mcapital\u001b[0m\u001b[0;34m)\u001b[0m\u001b[0;34m:\u001b[0m\u001b[0;34m\u001b[0m\u001b[0;34m\u001b[0m\u001b[0m\n\u001b[1;32m      7\u001b[0m \u001b[0;34m\u001b[0m\u001b[0m\n\u001b[0;32m----> 8\u001b[0;31m   response = openai.ChatCompletion.create(\n\u001b[0m\u001b[1;32m      9\u001b[0m     \u001b[0mmodel\u001b[0m\u001b[0;34m=\u001b[0m\u001b[0;34m\"gpt-3.5-turbo\"\u001b[0m\u001b[0;34m,\u001b[0m\u001b[0;34m\u001b[0m\u001b[0;34m\u001b[0m\u001b[0m\n\u001b[1;32m     10\u001b[0m     messages=[\n",
            "\u001b[0;32m/usr/local/lib/python3.10/dist-packages/openai/api_resources/chat_completion.py\u001b[0m in \u001b[0;36mcreate\u001b[0;34m(cls, *args, **kwargs)\u001b[0m\n\u001b[1;32m     23\u001b[0m         \u001b[0;32mwhile\u001b[0m \u001b[0;32mTrue\u001b[0m\u001b[0;34m:\u001b[0m\u001b[0;34m\u001b[0m\u001b[0;34m\u001b[0m\u001b[0m\n\u001b[1;32m     24\u001b[0m             \u001b[0;32mtry\u001b[0m\u001b[0;34m:\u001b[0m\u001b[0;34m\u001b[0m\u001b[0;34m\u001b[0m\u001b[0m\n\u001b[0;32m---> 25\u001b[0;31m                 \u001b[0;32mreturn\u001b[0m \u001b[0msuper\u001b[0m\u001b[0;34m(\u001b[0m\u001b[0;34m)\u001b[0m\u001b[0;34m.\u001b[0m\u001b[0mcreate\u001b[0m\u001b[0;34m(\u001b[0m\u001b[0;34m*\u001b[0m\u001b[0margs\u001b[0m\u001b[0;34m,\u001b[0m \u001b[0;34m**\u001b[0m\u001b[0mkwargs\u001b[0m\u001b[0;34m)\u001b[0m\u001b[0;34m\u001b[0m\u001b[0;34m\u001b[0m\u001b[0m\n\u001b[0m\u001b[1;32m     26\u001b[0m             \u001b[0;32mexcept\u001b[0m \u001b[0mTryAgain\u001b[0m \u001b[0;32mas\u001b[0m \u001b[0me\u001b[0m\u001b[0;34m:\u001b[0m\u001b[0;34m\u001b[0m\u001b[0;34m\u001b[0m\u001b[0m\n\u001b[1;32m     27\u001b[0m                 \u001b[0;32mif\u001b[0m \u001b[0mtimeout\u001b[0m \u001b[0;32mis\u001b[0m \u001b[0;32mnot\u001b[0m \u001b[0;32mNone\u001b[0m \u001b[0;32mand\u001b[0m \u001b[0mtime\u001b[0m\u001b[0;34m.\u001b[0m\u001b[0mtime\u001b[0m\u001b[0;34m(\u001b[0m\u001b[0;34m)\u001b[0m \u001b[0;34m>\u001b[0m \u001b[0mstart\u001b[0m \u001b[0;34m+\u001b[0m \u001b[0mtimeout\u001b[0m\u001b[0;34m:\u001b[0m\u001b[0;34m\u001b[0m\u001b[0;34m\u001b[0m\u001b[0m\n",
            "\u001b[0;32m/usr/local/lib/python3.10/dist-packages/openai/api_resources/abstract/engine_api_resource.py\u001b[0m in \u001b[0;36mcreate\u001b[0;34m(cls, api_key, api_base, api_type, request_id, api_version, organization, **params)\u001b[0m\n\u001b[1;32m    151\u001b[0m         )\n\u001b[1;32m    152\u001b[0m \u001b[0;34m\u001b[0m\u001b[0m\n\u001b[0;32m--> 153\u001b[0;31m         response, _, api_key = requestor.request(\n\u001b[0m\u001b[1;32m    154\u001b[0m             \u001b[0;34m\"post\"\u001b[0m\u001b[0;34m,\u001b[0m\u001b[0;34m\u001b[0m\u001b[0;34m\u001b[0m\u001b[0m\n\u001b[1;32m    155\u001b[0m             \u001b[0murl\u001b[0m\u001b[0;34m,\u001b[0m\u001b[0;34m\u001b[0m\u001b[0;34m\u001b[0m\u001b[0m\n",
            "\u001b[0;32m/usr/local/lib/python3.10/dist-packages/openai/api_requestor.py\u001b[0m in \u001b[0;36mrequest\u001b[0;34m(self, method, url, params, headers, files, stream, request_id, request_timeout)\u001b[0m\n\u001b[1;32m    296\u001b[0m             \u001b[0mrequest_timeout\u001b[0m\u001b[0;34m=\u001b[0m\u001b[0mrequest_timeout\u001b[0m\u001b[0;34m,\u001b[0m\u001b[0;34m\u001b[0m\u001b[0;34m\u001b[0m\u001b[0m\n\u001b[1;32m    297\u001b[0m         )\n\u001b[0;32m--> 298\u001b[0;31m         \u001b[0mresp\u001b[0m\u001b[0;34m,\u001b[0m \u001b[0mgot_stream\u001b[0m \u001b[0;34m=\u001b[0m \u001b[0mself\u001b[0m\u001b[0;34m.\u001b[0m\u001b[0m_interpret_response\u001b[0m\u001b[0;34m(\u001b[0m\u001b[0mresult\u001b[0m\u001b[0;34m,\u001b[0m \u001b[0mstream\u001b[0m\u001b[0;34m)\u001b[0m\u001b[0;34m\u001b[0m\u001b[0;34m\u001b[0m\u001b[0m\n\u001b[0m\u001b[1;32m    299\u001b[0m         \u001b[0;32mreturn\u001b[0m \u001b[0mresp\u001b[0m\u001b[0;34m,\u001b[0m \u001b[0mgot_stream\u001b[0m\u001b[0;34m,\u001b[0m \u001b[0mself\u001b[0m\u001b[0;34m.\u001b[0m\u001b[0mapi_key\u001b[0m\u001b[0;34m\u001b[0m\u001b[0;34m\u001b[0m\u001b[0m\n\u001b[1;32m    300\u001b[0m \u001b[0;34m\u001b[0m\u001b[0m\n",
            "\u001b[0;32m/usr/local/lib/python3.10/dist-packages/openai/api_requestor.py\u001b[0m in \u001b[0;36m_interpret_response\u001b[0;34m(self, result, stream)\u001b[0m\n\u001b[1;32m    698\u001b[0m         \u001b[0;32melse\u001b[0m\u001b[0;34m:\u001b[0m\u001b[0;34m\u001b[0m\u001b[0;34m\u001b[0m\u001b[0m\n\u001b[1;32m    699\u001b[0m             return (\n\u001b[0;32m--> 700\u001b[0;31m                 self._interpret_response_line(\n\u001b[0m\u001b[1;32m    701\u001b[0m                     \u001b[0mresult\u001b[0m\u001b[0;34m.\u001b[0m\u001b[0mcontent\u001b[0m\u001b[0;34m.\u001b[0m\u001b[0mdecode\u001b[0m\u001b[0;34m(\u001b[0m\u001b[0;34m\"utf-8\"\u001b[0m\u001b[0;34m)\u001b[0m\u001b[0;34m,\u001b[0m\u001b[0;34m\u001b[0m\u001b[0;34m\u001b[0m\u001b[0m\n\u001b[1;32m    702\u001b[0m                     \u001b[0mresult\u001b[0m\u001b[0;34m.\u001b[0m\u001b[0mstatus_code\u001b[0m\u001b[0;34m,\u001b[0m\u001b[0;34m\u001b[0m\u001b[0;34m\u001b[0m\u001b[0m\n",
            "\u001b[0;32m/usr/local/lib/python3.10/dist-packages/openai/api_requestor.py\u001b[0m in \u001b[0;36m_interpret_response_line\u001b[0;34m(self, rbody, rcode, rheaders, stream)\u001b[0m\n\u001b[1;32m    763\u001b[0m         \u001b[0mstream_error\u001b[0m \u001b[0;34m=\u001b[0m \u001b[0mstream\u001b[0m \u001b[0;32mand\u001b[0m \u001b[0;34m\"error\"\u001b[0m \u001b[0;32min\u001b[0m \u001b[0mresp\u001b[0m\u001b[0;34m.\u001b[0m\u001b[0mdata\u001b[0m\u001b[0;34m\u001b[0m\u001b[0;34m\u001b[0m\u001b[0m\n\u001b[1;32m    764\u001b[0m         \u001b[0;32mif\u001b[0m \u001b[0mstream_error\u001b[0m \u001b[0;32mor\u001b[0m \u001b[0;32mnot\u001b[0m \u001b[0;36m200\u001b[0m \u001b[0;34m<=\u001b[0m \u001b[0mrcode\u001b[0m \u001b[0;34m<\u001b[0m \u001b[0;36m300\u001b[0m\u001b[0;34m:\u001b[0m\u001b[0;34m\u001b[0m\u001b[0;34m\u001b[0m\u001b[0m\n\u001b[0;32m--> 765\u001b[0;31m             raise self.handle_error_response(\n\u001b[0m\u001b[1;32m    766\u001b[0m                 \u001b[0mrbody\u001b[0m\u001b[0;34m,\u001b[0m \u001b[0mrcode\u001b[0m\u001b[0;34m,\u001b[0m \u001b[0mresp\u001b[0m\u001b[0;34m.\u001b[0m\u001b[0mdata\u001b[0m\u001b[0;34m,\u001b[0m \u001b[0mrheaders\u001b[0m\u001b[0;34m,\u001b[0m \u001b[0mstream_error\u001b[0m\u001b[0;34m=\u001b[0m\u001b[0mstream_error\u001b[0m\u001b[0;34m\u001b[0m\u001b[0;34m\u001b[0m\u001b[0m\n\u001b[1;32m    767\u001b[0m             )\n",
            "\u001b[0;31mAPIError\u001b[0m: Bad gateway. {\"error\":{\"code\":502,\"message\":\"Bad gateway.\",\"param\":null,\"type\":\"cf_bad_gateway\"}} 502 {'error': {'code': 502, 'message': 'Bad gateway.', 'param': None, 'type': 'cf_bad_gateway'}} {'Date': 'Fri, 15 Sep 2023 03:29:40 GMT', 'Content-Type': 'application/json', 'Content-Length': '84', 'Connection': 'keep-alive', 'X-Frame-Options': 'SAMEORIGIN', 'Referrer-Policy': 'same-origin', 'Cache-Control': 'private, max-age=0, no-store, no-cache, must-revalidate, post-check=0, pre-check=0', 'Expires': 'Thu, 01 Jan 1970 00:00:01 GMT', 'Server': 'cloudflare', 'CF-RAY': '806dbabcf80344cf-ATL', 'alt-svc': 'h3=\":443\"; ma=86400'}"
          ]
        }
      ]
    },
    {
      "cell_type": "markdown",
      "source": [
        "# Nova seção"
      ],
      "metadata": {
        "id": "cqV6W9iG5edZ"
      }
    }
  ]
}