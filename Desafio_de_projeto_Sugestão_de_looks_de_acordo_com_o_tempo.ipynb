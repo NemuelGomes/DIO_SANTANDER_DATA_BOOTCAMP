{
  "nbformat": 4,
  "nbformat_minor": 0,
  "metadata": {
    "colab": {
      "provenance": [],
      "authorship_tag": "ABX9TyMgCA4PMkMQaK3T4q1NvaKn",
      "include_colab_link": true
    },
    "kernelspec": {
      "name": "python3",
      "display_name": "Python 3"
    },
    "language_info": {
      "name": "python"
    }
  },
  "cells": [
    {
      "cell_type": "markdown",
      "metadata": {
        "id": "view-in-github",
        "colab_type": "text"
      },
      "source": [
        "<a href=\"https://colab.research.google.com/github/NemuelGomes/DIO_SANTANDER_DATA_BOOTCAMP/blob/main/Desafio_de_projeto_Sugest%C3%A3o_de_looks_de_acordo_com_o_tempo.ipynb\" target=\"_parent\"><img src=\"https://colab.research.google.com/assets/colab-badge.svg\" alt=\"Open In Colab\"/></a>"
      ]
    },
    {
      "cell_type": "markdown",
      "source": [
        "**ETL criada para acessar dados da API do INPE e consumir os dados de condições climáticas. Tranforma os dados utilizando AI do ChatGPT e retorna uma sugestão de roupa e acessórios para as condições climáticas do dia e local. O resultado é enviado para uma planilha excel. (A aplicação poderia ser melhorada e enviar as notificações direto no celular dos usuários, em uma proxima versão) **"
      ],
      "metadata": {
        "id": "AtTEnvkp52Lo"
      }
    },
    {
      "cell_type": "markdown",
      "source": [
        "# Requisição API INPE"
      ],
      "metadata": {
        "id": "5Q_gREgK50bj"
      }
    },
    {
      "cell_type": "code",
      "source": [
        "import requests\n",
        "# A API fornece dados de previsão de tempo, como temperatura; pressão atmosferica; ventos e chuvas, em regiões próximas as capitais.\n",
        "tempo_nas_capitais_api = requests.get('http://servicos.cptec.inpe.br/XML/capitais/condicoesAtuais.xml')"
      ],
      "metadata": {
        "id": "TWLZqvwQ4-b_"
      },
      "execution_count": 44,
      "outputs": []
    },
    {
      "cell_type": "code",
      "source": [
        "result = tempo_nas_capitais_api.text\n"
      ],
      "metadata": {
        "id": "5SevodnK_Jc0"
      },
      "execution_count": 45,
      "outputs": []
    },
    {
      "cell_type": "markdown",
      "source": [
        "# Transforma dados em um dicionário utilizando a biblioteca **xmltodict**"
      ],
      "metadata": {
        "id": "njDkQHDI70bV"
      }
    },
    {
      "cell_type": "code",
      "source": [
        "pip install xmltodict\n"
      ],
      "metadata": {
        "id": "aJQIWevc8sHW"
      },
      "execution_count": null,
      "outputs": []
    },
    {
      "cell_type": "code",
      "source": [
        "import xmltodict\n",
        "\n",
        "dicionario_tempo = xmltodict.parse(result)\n"
      ],
      "metadata": {
        "id": "V5Y4SBM_9sh9"
      },
      "execution_count": 46,
      "outputs": []
    },
    {
      "cell_type": "markdown",
      "source": [
        "# Transforma em lista com capitais e dados do tempo"
      ],
      "metadata": {
        "id": "bZjdpNcfWrdK"
      }
    },
    {
      "cell_type": "code",
      "source": [
        "list_dados_capitais = []\n",
        "\n",
        "for capital in dicionario_tempo['capitais']['metar']:\n",
        "  list_dados_capitais.append(capital)\n",
        "\n"
      ],
      "metadata": {
        "id": "UXfObyGIIlj_"
      },
      "execution_count": 47,
      "outputs": []
    },
    {
      "cell_type": "markdown",
      "source": [
        "Acessando o CHATGPT"
      ],
      "metadata": {
        "id": "iigeR_B_YY5N"
      }
    },
    {
      "cell_type": "code",
      "source": [
        "!pip install openai\n"
      ],
      "metadata": {
        "id": "nexVUUYneHJ9"
      },
      "execution_count": null,
      "outputs": []
    },
    {
      "cell_type": "code",
      "source": [
        "# INSERIR API KEY da openai ChatGPT\n",
        "openai_api_key = 'key'"
      ],
      "metadata": {
        "id": "eFJWQmJOZeVM"
      },
      "execution_count": 48,
      "outputs": []
    },
    {
      "cell_type": "code",
      "source": [
        "dicionario_de_siglas = {'SBTK':'Tarauacá-AC','SBRB':'Presidente Médici-AC','SBCZ':'Internacional-AC','SBMO':'Zumbi dos Palmares-AL','SBEG':'Eduardo Gomes-AM','SBMN':'Ponta Pelada-AM','SBMY':'Manicoré-AM','SBTT':'Tabatinga-AM','SBYA':'Iuaretê-AM','SBUA':'São Gabriel da Cachoeira-AM','SBTF':'Tefé-AM','SBAM':'Amapá-AP','SBMQ':'Internacional-AP','SBOI':'Oiapoque-AP','SBLP':'Bom Jesus da Lapa-BA','SBCV':'Caravelas-BA','SBIL':'Jorge Amado-BA','SBLE':'Chapada Diamantina-BA','SBUF':'Paulo Afonso-BA','SBPS':'Porto Seguro-BA','SBSV':'Dep. Luís Eduardo Magalhães-BA','SBQV':'Vitória da Conquista-BA','SBFZ':'Pinto Martins-CE','SBJU':'Cariri-CE','SBBR':'Juscelino Kubitschek-DF','SBVT':'Eurico Aguiar Salles-ES','SBAN':'Anápolis-GO','SBGO':'Santa Genoveva-GO','SBCI':'Carolina-MA','SBIZ':'Imperatriz-MA','SBSL':'Mar. Cunha Machado-MA','SBAX':'Araxá-MG','SBPR':'Carlos Prates-MG','SBBQ':'Barbacena-MG','SBBH':'Pampulha-MG','SBCF':'Tancredo Neves-MG','SBPC':'Poços de Caldas-MG','SBUR':'Uberaba-MG','SBUL':'Uberlândia-MG','SBIP':'Ipatinga-MG','SBJF':'Francisco de Assis-MG','SBMK':'Montes Claros-MG','SBVG':'Varginha-MG','SBGV':'Gov. Valadares-MG','SBCG':'Internacional-MS','SBCR':'Corumbá-MS','SBPP':'Internacional-MS','SBAT':'Alta Floresta-MT','SBBW':'Barra do Garças-MT','SBCY':'Marechal Rondon-MT','SBHT':'Altamira-PA','SBBE':'Val-de-Cans-PA','SBIH':'Itaituba-PA','SBEK':'Jacareacanga-PA','SBMA':'Marabá-PA','SBCC':'Cachimbó-PA','SBTB':'Trombetas-PA','SBCJ':'Carajás-PA','SBSN':'Santarém-PA','SBTU':'Tucuruí-PA','SBAA':'Conceição do Araguaia-PA','SBKG':'Pres. João Suassuna-PB','SBJP':'Pres. Castro Pinto-PB','SBFN':'Fernando de Noronha-PE','SBRF':'Guararapes-PE','SBPL':'Sen. Nilo Coelho-PE','SBPB':'Dr. João Silva Filho-PI','SBTE':'Sen. Petrônio Portella-PI','SBLO':'Londrina-PR','SBFI':'Cataratas-PR','SBBI':'Bacacheri-PR','SBCT':'Afonso Pena-PR','SBMG':'Silvio Name Junior-PR','SBCB':'Cabo Frio-RJ','SBGL':'Galeão-RJ','SBJR':'Jacarepaguá-RJ','SBRJ':'Santos Dumont-RJ','SBSC':'Santa Cruz-RJ','SBME':'Macaé-RJ','SBES':'S. Pedro da Aldeia-RJ','SBCP':'Bartolomeu Lysandro-RJ','SBMS':'Dix-Sept Rosado-RN','SBNT':'Augusto Severo-RN','SBGM':'Guajará Mirim-RO','SBVH':'Brigadeiro Camarão-RO','SBPV':'Gov. Jorge Teixeira de Oliveira-RO','SBBV':'Boa Vista-RR','SBBG':'Bagé-RS','SBSM':'Santa Maria-RS','SBPA':'Salgado Filho-RS','SBPK':'Pelotas-RS','SBCO':'Canoas-RS','SBUG':'Rubem Berta-RS','SBCH':'Chapecó-SC','SBCM':'Forquilinha-SC','SBFL':'Hercílio Luz-SC','SBJV':'Lauro Carneiro de Loyola-SC','SBNF':'Min. Victor Konder-SC','SBAR':'Santa Maria-SE','SBAU':'Araçatuba-SP','SBBU':'Bauru-SP','SBKP':'Viracopos-SP','SBDN':'Pres. Prudente-SP','SBRP':'Leite Lopes-SP','SBSR':'S. J. do Rio Preto-SP','SBYS':'Fontenelle-SP','SBST':'Base Aérea-SP','SBGP':'Gavião Peixoto-SP','SBGW':'Guaratinguetá-SP','SBGR':'Guarulhos-SP','SBSJ':'São J. dos Campos-SP','SBMT':'Campo de Marte-SP','SBSP':'Congonhas-SP','SBTA':'Taubaté-SP','SBPJ':'Palmas-TO','SBPN':'Porto Nacional-TO'}\n"
      ],
      "metadata": {
        "id": "XJU6u2fwnAS1"
      },
      "execution_count": 49,
      "outputs": []
    },
    {
      "cell_type": "code",
      "source": [
        "from openai.api_resources import completion\n",
        "import openai\n",
        "\n",
        "openai.api_key = openai_api_key\n",
        "\n",
        "def look_suggest(capital):\n",
        "\n",
        "  response = openai.ChatCompletion.create(\n",
        "    model=\"gpt-3.5-turbo\",\n",
        "    messages=[\n",
        "        {\"role\": \"system\", \"content\": \"Você é um especialista em previsão do tempo e deve fornecer dicas de vestimentas e acessórios de acordo como a previsão fornecida\"},\n",
        "        {\"role\": \"user\", \"content\": (f'Considere {capital}.Considere os códigos das cidades: {dicionario_de_siglas}. A resposta deve conter no máximo 30 palavras' )},\n",
        "\n",
        "        ]\n",
        "  )\n",
        "  return response['choices'][0].message.content\n",
        "\n",
        "lista_de_listas_local_look = []\n",
        "for capital in list_dados_capitais:\n",
        "\n",
        "  lista_local_look = []\n",
        "  local = dicionario_de_siglas[capital['codigo']]\n",
        "  look = look_suggest(capital)\n",
        "  lista_local_look.append(local)\n",
        "  lista_local_look.append(look)\n",
        "  lista_de_listas_local_look.append(lista_local_look)\n",
        "\n",
        "\n"
      ],
      "metadata": {
        "id": "8QtMqIa7eTeL"
      },
      "execution_count": 50,
      "outputs": []
    },
    {
      "cell_type": "markdown",
      "source": [
        "Cria dataframe utilizando a biblioteca PANDAS e armazena dados em planilha excel"
      ],
      "metadata": {
        "id": "36Og6AP6lNL_"
      }
    },
    {
      "cell_type": "code",
      "source": [
        "import pandas as pd\n",
        "\n",
        "df = pd.DataFrame(lista_de_listas_local_look, columns=['Local', 'Previsão e sugestão de look'])\n",
        "\n",
        "file_name = 'planilha_local_looks.xlsx' #Escrevendo o nome do arquivo que será salvo\n",
        "df.to_excel(file_name)\n",
        "\n",
        "#print(df)"
      ],
      "metadata": {
        "id": "vB6lg8In4dz8"
      },
      "execution_count": 51,
      "outputs": []
    },
    {
      "cell_type": "markdown",
      "source": [
        "# Nova seção"
      ],
      "metadata": {
        "id": "cqV6W9iG5edZ"
      }
    }
  ]
}