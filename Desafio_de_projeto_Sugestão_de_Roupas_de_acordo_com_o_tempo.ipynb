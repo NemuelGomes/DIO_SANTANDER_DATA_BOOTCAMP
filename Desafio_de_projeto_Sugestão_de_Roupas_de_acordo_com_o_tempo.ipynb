{
  "nbformat": 4,
  "nbformat_minor": 0,
  "metadata": {
    "colab": {
      "provenance": [],
      "authorship_tag": "ABX9TyNc8g6WWpcVpAI6Qxh0Q1uj",
      "include_colab_link": true
    },
    "kernelspec": {
      "name": "python3",
      "display_name": "Python 3"
    },
    "language_info": {
      "name": "python"
    }
  },
  "cells": [
    {
      "cell_type": "markdown",
      "metadata": {
        "id": "view-in-github",
        "colab_type": "text"
      },
      "source": [
        "<a href=\"https://colab.research.google.com/github/NemuelGomes/DIO_SANTANDER_DATA_BOOTCAMP/blob/main/Desafio_de_projeto_Sugest%C3%A3o_de_Roupas_de_acordo_com_o_tempo.ipynb\" target=\"_parent\"><img src=\"https://colab.research.google.com/assets/colab-badge.svg\" alt=\"Open In Colab\"/></a>"
      ]
    },
    {
      "cell_type": "markdown",
      "source": [
        "**ETL criada para acessar dados da API do INPE e consumir as condições climáticas das capitais, em seguida retorna uma sugestão de roupas e acessórios para as condições climáticas do dia e local em uma planilha google**"
      ],
      "metadata": {
        "id": "AtTEnvkp52Lo"
      }
    },
    {
      "cell_type": "markdown",
      "source": [
        "# Requisição API INPE"
      ],
      "metadata": {
        "id": "5Q_gREgK50bj"
      }
    },
    {
      "cell_type": "code",
      "source": [
        "import requests\n",
        "\n",
        "tempo_nas_capitais_api = requests.get('http://servicos.cptec.inpe.br/XML/capitais/condicoesAtuais.xml')"
      ],
      "metadata": {
        "id": "TWLZqvwQ4-b_"
      },
      "execution_count": 15,
      "outputs": []
    },
    {
      "cell_type": "code",
      "source": [
        "result = tempo_nas_capitais_api.text\n"
      ],
      "metadata": {
        "id": "5SevodnK_Jc0"
      },
      "execution_count": 20,
      "outputs": []
    },
    {
      "cell_type": "markdown",
      "source": [
        "# Transforma dados em um dicionário utilizando a biblioteca **xmltodict**"
      ],
      "metadata": {
        "id": "njDkQHDI70bV"
      }
    },
    {
      "cell_type": "code",
      "source": [
        "pip install xmltodict\n"
      ],
      "metadata": {
        "colab": {
          "base_uri": "https://localhost:8080/"
        },
        "id": "aJQIWevc8sHW",
        "outputId": "8b7c61a7-3983-4b15-d77c-47daa5681cf9"
      },
      "execution_count": 21,
      "outputs": [
        {
          "output_type": "stream",
          "name": "stdout",
          "text": [
            "Requirement already satisfied: xmltodict in /usr/local/lib/python3.10/dist-packages (0.13.0)\n"
          ]
        }
      ]
    },
    {
      "cell_type": "code",
      "source": [
        "import xmltodict\n",
        "\n",
        "dicionario_tempo = xmltodict.parse(result)\n"
      ],
      "metadata": {
        "id": "V5Y4SBM_9sh9"
      },
      "execution_count": 45,
      "outputs": []
    },
    {
      "cell_type": "code",
      "source": [
        "\n",
        "for capital in dicionario_tempo['capitais']['metar']:\n",
        "  print(capital)"
      ],
      "metadata": {
        "colab": {
          "base_uri": "https://localhost:8080/"
        },
        "id": "UXfObyGIIlj_",
        "outputId": "fc73ce15-e852-47c3-90a4-2b2b6a4375d5"
      },
      "execution_count": 44,
      "outputs": [
        {
          "output_type": "stream",
          "name": "stdout",
          "text": [
            "{'codigo': 'SBAR', 'atualizacao': '14/09/2023 14:00:00', 'pressao': '1015', 'temperatura': '28', 'tempo': 'ps', 'tempo_desc': 'PredomÃ\\xadnio de Sol', 'umidade': '66', 'vento_dir': '170', 'vento_int': '14', 'intensidade': '>10000'}\n",
            "{'codigo': 'SBBE', 'atualizacao': '14/09/2023 14:00:00', 'pressao': '1011', 'temperatura': '31', 'tempo': 'ps', 'tempo_desc': 'PredomÃ\\xadnio de Sol', 'umidade': '71', 'vento_dir': '340', 'vento_int': '14', 'intensidade': '>10000'}\n",
            "{'codigo': 'SBCF', 'atualizacao': '14/09/2023 14:00:00', 'pressao': '1016', 'temperatura': '32', 'tempo': 'ps', 'tempo_desc': 'PredomÃ\\xadnio de Sol', 'umidade': '26', 'vento_dir': '300', 'vento_int': '22', 'intensidade': '>10000'}\n",
            "{'codigo': 'SBBV', 'atualizacao': '14/09/2023 14:00:00', 'pressao': '1012', 'temperatura': '35', 'tempo': 'ps', 'tempo_desc': 'PredomÃ\\xadnio de Sol', 'umidade': '29', 'vento_dir': '120', 'vento_int': '14', 'intensidade': '>10000'}\n",
            "{'codigo': 'SBBR', 'atualizacao': '14/09/2023 14:00:00', 'pressao': '1019', 'temperatura': '31', 'tempo': 'ps', 'tempo_desc': 'PredomÃ\\xadnio de Sol', 'umidade': '26', 'vento_dir': '280', 'vento_int': '18', 'intensidade': '>10000'}\n",
            "{'codigo': 'SBCG', 'atualizacao': '14/09/2023 14:00:00', 'pressao': '1019', 'temperatura': '21', 'tempo': 'ps', 'tempo_desc': 'PredomÃ\\xadnio de Sol', 'umidade': '48', 'vento_dir': '140', 'vento_int': '14', 'intensidade': '>10000'}\n",
            "{'codigo': 'SBCY', 'atualizacao': '14/09/2023 14:00:00', 'pressao': '1017', 'temperatura': '20', 'tempo': 'ps', 'tempo_desc': 'PredomÃ\\xadnio de Sol', 'umidade': '87', 'vento_dir': '120', 'vento_int': '14', 'intensidade': '>10000'}\n",
            "{'codigo': 'SBCT', 'atualizacao': '14/09/2023 14:00:00', 'pressao': '1018', 'temperatura': '17', 'tempo': 'ps', 'tempo_desc': 'PredomÃ\\xadnio de Sol', 'umidade': '47', 'vento_dir': '290', 'vento_int': '18', 'intensidade': '>10000'}\n",
            "{'codigo': 'SBFL', 'atualizacao': '14/09/2023 14:00:00', 'pressao': '1015', 'temperatura': '21', 'tempo': 'ps', 'tempo_desc': 'PredomÃ\\xadnio de Sol', 'umidade': '45', 'vento_dir': '130', 'vento_int': '25', 'intensidade': '>10000'}\n",
            "{'codigo': 'SBFZ', 'atualizacao': '14/09/2023 14:00:00', 'pressao': '1011', 'temperatura': '31', 'tempo': 'ps', 'tempo_desc': 'PredomÃ\\xadnio de Sol', 'umidade': '47', 'vento_dir': '100', 'vento_int': '32', 'intensidade': '>10000'}\n",
            "{'codigo': 'SBGO', 'atualizacao': '14/09/2023 14:00:00', 'pressao': '1018', 'temperatura': '30', 'tempo': 'ps', 'tempo_desc': 'PredomÃ\\xadnio de Sol', 'umidade': '38', 'vento_dir': '240', 'vento_int': '18', 'intensidade': '>10000'}\n",
            "{'codigo': 'SBJP', 'atualizacao': '14/09/2023 14:00:00', 'pressao': '1013', 'temperatura': '29', 'tempo': 'ps', 'tempo_desc': 'PredomÃ\\xadnio de Sol', 'umidade': '58', 'vento_dir': '140', 'vento_int': '25', 'intensidade': '>10000'}\n",
            "{'codigo': 'SBMQ', 'atualizacao': '14/09/2023 14:00:00', 'pressao': '1011', 'temperatura': '34', 'tempo': 'ps', 'tempo_desc': 'PredomÃ\\xadnio de Sol', 'umidade': '41', 'vento_dir': '90', 'vento_int': '14', 'intensidade': '>10000'}\n",
            "{'codigo': 'SBMO', 'atualizacao': '14/09/2023 14:00:00', 'pressao': '1015', 'temperatura': '24', 'tempo': 'ps', 'tempo_desc': 'PredomÃ\\xadnio de Sol', 'umidade': '93', 'vento_dir': '90', 'vento_int': '14', 'intensidade': '>10000'}\n",
            "{'codigo': 'SBMN', 'atualizacao': '14/09/2023 14:00:00', 'pressao': '1012', 'temperatura': '36', 'tempo': 'ps', 'tempo_desc': 'PredomÃ\\xadnio de Sol', 'umidade': '36', 'vento_dir': '9999', 'vento_int': '7', 'intensidade': '>10000'}\n",
            "{'codigo': 'SBNT', 'atualizacao': '14/09/2023 14:00:00', 'pressao': '1013', 'temperatura': '26', 'tempo': 'ps', 'tempo_desc': 'PredomÃ\\xadnio de Sol', 'umidade': '87', 'vento_dir': '140', 'vento_int': '25', 'intensidade': '>10000'}\n",
            "{'codigo': 'SBPA', 'atualizacao': '14/09/2023 14:00:00', 'pressao': '1019', 'temperatura': '16', 'tempo': 'ps', 'tempo_desc': 'PredomÃ\\xadnio de Sol', 'umidade': '64', 'vento_dir': '280', 'vento_int': '29', 'intensidade': '>10000'}\n",
            "{'codigo': 'SBPV', 'atualizacao': '14/09/2023 14:00:00', 'pressao': '1012', 'temperatura': '33', 'tempo': 'ps', 'tempo_desc': 'PredomÃ\\xadnio de Sol', 'umidade': '48', 'vento_dir': '100', 'vento_int': '7', 'intensidade': '>10000'}\n",
            "{'codigo': 'SBRF', 'atualizacao': '14/09/2023 14:00:00', 'pressao': '1013', 'temperatura': '28', 'tempo': 'ps', 'tempo_desc': 'PredomÃ\\xadnio de Sol', 'umidade': '62', 'vento_dir': '180', 'vento_int': '29', 'intensidade': '>10000'}\n",
            "{'codigo': 'SBRB', 'atualizacao': '14/09/2023 14:00:00', 'pressao': '1015', 'temperatura': '29', 'tempo': 'ps', 'tempo_desc': 'PredomÃ\\xadnio de Sol', 'umidade': '71', 'vento_dir': '140', 'vento_int': '11', 'intensidade': '>10000'}\n",
            "{'codigo': 'SBRJ', 'atualizacao': '14/09/2023 14:00:00', 'pressao': '1010', 'temperatura': '29', 'tempo': 'ps', 'tempo_desc': 'PredomÃ\\xadnio de Sol', 'umidade': '54', 'vento_dir': '200', 'vento_int': '43', 'intensidade': '>10000'}\n",
            "{'codigo': 'SBSV', 'atualizacao': '14/09/2023 14:00:00', 'pressao': '1015', 'temperatura': '28', 'tempo': 'ps', 'tempo_desc': 'PredomÃ\\xadnio de Sol', 'umidade': '66', 'vento_dir': '100', 'vento_int': '14', 'intensidade': '>10000'}\n",
            "{'codigo': 'SBSL', 'atualizacao': '14/09/2023 14:00:00', 'pressao': '1011', 'temperatura': '31', 'tempo': 'ps', 'tempo_desc': 'PredomÃ\\xadnio de Sol', 'umidade': '62', 'vento_dir': '20', 'vento_int': '22', 'intensidade': '>10000'}\n",
            "{'codigo': 'SBSP', 'atualizacao': '14/09/2023 14:00:00', 'pressao': '1019', 'temperatura': '18', 'tempo': 'ps', 'tempo_desc': 'PredomÃ\\xadnio de Sol', 'umidade': '86', 'vento_dir': '310', 'vento_int': '11', 'intensidade': '>10000'}\n",
            "{'codigo': 'SBTE', 'atualizacao': '14/09/2023 14:00:00', 'pressao': '1010', 'temperatura': '36', 'tempo': 'ps', 'tempo_desc': 'PredomÃ\\xadnio de Sol', 'umidade': '29', 'vento_dir': '160', 'vento_int': '11', 'intensidade': '>10000'}\n",
            "{'codigo': 'SBVT', 'atualizacao': '14/09/2023 14:00:00', 'pressao': '1011', 'temperatura': '33', 'tempo': 'ps', 'tempo_desc': 'PredomÃ\\xadnio de Sol', 'umidade': '41', 'vento_dir': '20', 'vento_int': '18', 'intensidade': '>10000'}\n"
          ]
        }
      ]
    },
    {
      "cell_type": "markdown",
      "source": [
        "# Nova seção"
      ],
      "metadata": {
        "id": "cqV6W9iG5edZ"
      }
    }
  ]
}